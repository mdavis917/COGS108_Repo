{
 "cells": [
  {
   "cell_type": "markdown",
   "metadata": {},
   "source": [
    "# COGS 108 - Final Project "
   ]
  },
  {
   "cell_type": "markdown",
   "metadata": {},
   "source": [
    "# Overview"
   ]
  },
  {
   "cell_type": "markdown",
   "metadata": {},
   "source": [
    "We believe that the location and industry of startups are the main contributors to the overall success of a startup compared to other factors because location is often correlated with different amount of business opportunities, and industry often dictates the profit margins and market. Therefore, we analyized funding amount, longevity, and closed ratio of start-up companies in different locations and industries. With the result, we could conclude which cities and industries are the best for a new start-up company."
   ]
  },
  {
   "cell_type": "markdown",
   "metadata": {},
   "source": [
    "# Names\n",
    "\n",
    "- Hansae Lee: A14062618\n",
    "- Eun Hye (Grace) Oh: A12960475\n",
    "- Iris Nayki: A14520625\n",
    "- Matthew Davis: A13050499\n",
    "- Tianxing Liu: A14800461\n",
    "- Yuting Xu: A13361405"
   ]
  },
  {
   "cell_type": "markdown",
   "metadata": {},
   "source": [
    "# Research Question"
   ]
  },
  {
   "cell_type": "markdown",
   "metadata": {},
   "source": [
    "*Which cities and industries are the best place and target for start-up companies in terms of funding amount, longevity, and closed ratio of them?*"
   ]
  },
  {
   "cell_type": "markdown",
   "metadata": {},
   "source": [
    "## Background and Prior Work"
   ]
  },
  {
   "cell_type": "markdown",
   "metadata": {},
   "source": [
    "- Given the continual rise of startups in various locations and their diverse industries, there is rich data regarding their funds and overall performance in receiving investments and interest in public and business sector. We are curious as to what factors contribute most to investments in startups, such as their specific industry and location and how much and in what ways they may contribute to their funding and seen potential market value. We hope to track trends and commonalities among a great number and wide range of startups to answer our questions and approach our hypothesis. \n",
    "- A similar project on this topic is Startup World where they used Crunchbase data, Loopnet commercial real estate prices, and coworking locations in order to find “the most lucrative cities for startups and coworking places today”. After extensive research and analysis, Diana Kontsevaia concluded that the best place for startups to work is Milwaukee, Wisconsin since it has a high average funding: https://data.world/dkonts/startup-development-potential\n"
   ]
  },
  {
   "cell_type": "markdown",
   "metadata": {},
   "source": [
    "# Hypothesis\n"
   ]
  },
  {
   "cell_type": "markdown",
   "metadata": {},
   "source": [
    "*With the analyzed data about the start-up companies around this country, we would be able to find the best city and industriy for start-up compnies. We expect Silicon Valley and Apps are the best location and industry for start-up companies as they are already treated as the best place and topic to be a successful company today.*"
   ]
  },
  {
   "cell_type": "markdown",
   "metadata": {},
   "source": [
    "# Dataset(s)"
   ]
  },
  {
   "cell_type": "markdown",
   "metadata": {},
   "source": [
    "*In order to answer our research question, we found Crunchbase (https://www.crunchbase.com), a platform for finding company data. They have datasets for companies and investors, built to track startups and thier finances. Crunchbases data is private and requires a subscription to access. We contacted Crunchbase as a team to ask for access to thier datasets for the purposes of this project. They kindly agreed to help our project and granted us an API key to download thier data set free of charge. We included a copy of the downloaded dataset in our github, but we ask that it is not redistributed to respect the access given by Crunchbase.* \n",
    "\n",
    "- Dataset Name: Crunchbase Daily Export\n",
    "- Link to the dataset: \n",
    "    - https://github.com/mdavis917/COGS108_Repo\n",
    "- Additional links:\n",
    "    - https://data.crunchbase.com/docs\n",
    "    - https://www.crunchbase.com/\n",
    "    \n",
    "- Variables/information included: \n",
    "Company name, company domain, country code, state code, region, city, status, short description, industry categories, number of employees, number of funding rounds, total funding, founding date, first funding date, last funding date, closed date, company email address, company phone number, company specific Crunchbase URL, company Twitter URL, company Facebook URL, and UUID.\n",
    "- Number of observations:\n",
    "235,031 start-up companies.\n"
   ]
  },
  {
   "cell_type": "markdown",
   "metadata": {},
   "source": [
    "# Setup"
   ]
  },
  {
   "cell_type": "markdown",
   "metadata": {},
   "source": [
    "First, we will import various libraries and a raw dataset."
   ]
  },
  {
   "cell_type": "code",
   "execution_count": null,
   "metadata": {},
   "outputs": [],
   "source": [
    "%matplotlib inline\n",
    "\n",
    "# libraries we will be using to analyze our data\n",
    "import pandas as pd\n",
    "import numpy as np\n",
    "import operator\n",
    "import matplotlib.pyplot as plt\n",
    "\n",
    "# import the data set we will be using\n",
    "df = pd.read_csv('crunchbase_export.csv' , encoding='latin-1', low_memory = False)"
   ]
  },
  {
   "cell_type": "markdown",
   "metadata": {},
   "source": [
    "This is a function to be used later. It converts input string value into an integer value."
   ]
  },
  {
   "cell_type": "code",
   "execution_count": null,
   "metadata": {},
   "outputs": [],
   "source": [
    "# a function to convert incoming string to an integer value with no commas\n",
    "def convert_fund(str_in):\n",
    "    \n",
    "    # remove commas\n",
    "    str_in = str_in.strip()\n",
    "    str_in = str_in.replace(',', '')\n",
    "    str_in = str_in.strip()\n",
    "    \n",
    "    # convert it to an integer and return it\n",
    "    return int(str_in)"
   ]
  },
  {
   "cell_type": "markdown",
   "metadata": {},
   "source": [
    "# Data Cleaning"
   ]
  },
  {
   "cell_type": "markdown",
   "metadata": {},
   "source": [
    "We will drop any unnecessary information in the dataframe here."
   ]
  },
  {
   "cell_type": "code",
   "execution_count": null,
   "metadata": {},
   "outputs": [],
   "source": [
    "# drop any unnecessary columns\n",
    "df.drop(['company_name','region','domain','short_description', 'category_list', ' employee_count ','email','phone','cb_url', 'twitter_url', 'facebook_url' , 'uuid'], axis=1, inplace=True)\n",
    "\n",
    "# keep only domestic companies and drop the column\n",
    "df = df[df['country_code'] == 'USA']\n",
    "df.drop(['country_code'], axis=1, inplace=True)"
   ]
  },
  {
   "cell_type": "markdown",
   "metadata": {},
   "source": [
    "# Data Analysis & Results"
   ]
  },
  {
   "cell_type": "markdown",
   "metadata": {},
   "source": [
    "In order to see how Location and Industry might interact first we want to analyze each of those aspects seperatly."
   ]
  },
  {
   "cell_type": "markdown",
   "metadata": {},
   "source": [
    "## Most Successful By Location"
   ]
  },
  {
   "cell_type": "markdown",
   "metadata": {},
   "source": [
    "There are many different cities where startups are created in the United States. As such we would like to make the data more readable by limiting it to a subset of the largest 20 cities\n",
    "- We can either import a population data set (like the homework) or just sort by the amount of companies in each city\n",
    "\n",
    "In addition, there are multiple criteria for success that we would like to explore. \n",
    "- Total amount of funding is a valuble metric for success in terms of raising funds. However, a startup can raise tons of capital and still burn through it all. \n",
    "- Success can also be measured by ability to be aquired, or launch as an IPO vs being closed, however a company can be aquired for pennies compared to how much it costs to fund. \n",
    "- Lastly we could use the longevity of a company as a metric of success. However a company could last with negative profits for a long time before finally closing\n",
    "    \n",
    "- We will explore all of these different metrics to see how they change the overall story of how location impacts these factors."
   ]
  },
  {
   "cell_type": "markdown",
   "metadata": {},
   "source": [
    "### Sorting and Cleaning Data for Location"
   ]
  },
  {
   "cell_type": "markdown",
   "metadata": {},
   "source": [
    "Because of the sheer number of cities in close proximity to each other, cities that are considered to be Silicon Valley are will be renamed to silicon valley in order to be grouped together"
   ]
  },
  {
   "cell_type": "code",
   "execution_count": null,
   "metadata": {},
   "outputs": [],
   "source": [
    "sil_valley = [\"Palo Alto\", \"Santa Clara\", \"San Jose\", \"Mountain View\", \"Sunnyvale\", \"San Francisco\", \"San Mateo\", \"Redwood City\"]\n",
    "df.loc[df[\"city\"].isin(sil_valley), \"city\"] = \"Silicon Valley\""
   ]
  },
  {
   "cell_type": "code",
   "execution_count": null,
   "metadata": {},
   "outputs": [],
   "source": [
    "# make a copy of the original dataframe that will be used only for location\n",
    "df_loc = df.copy()"
   ]
  },
  {
   "cell_type": "markdown",
   "metadata": {},
   "source": [
    "### Total Companies by City"
   ]
  },
  {
   "cell_type": "code",
   "execution_count": null,
   "metadata": {},
   "outputs": [],
   "source": [
    "def total_comp_by_val(df, value_to_sort, title_v):\n",
    "\n",
    "    # extract number of companies per city\n",
    "    df_val = pd.value_counts(df[value_to_sort]).to_frame()\n",
    "\n",
    "    # extract top 20 cities\n",
    "    df_val = df_val[:20]\n",
    "\n",
    "    # visualize the data\n",
    "    graph = df_val.plot.bar(title=title_v,legend=False)\n",
    "    graph.set_xlabel(value_to_sort)\n",
    "    graph.set_ylabel('Number of Companies')"
   ]
  },
  {
   "cell_type": "code",
   "execution_count": null,
   "metadata": {},
   "outputs": [],
   "source": [
    "total_comp_by_val(df_loc, 'city', 'Total Companies per City')"
   ]
  },
  {
   "cell_type": "markdown",
   "metadata": {},
   "source": [
    "As we expected, New York and Silicon Valley have the most start-up companies in US. Every other cities have fairly similiar number of start-up companies."
   ]
  },
  {
   "cell_type": "markdown",
   "metadata": {},
   "source": [
    "### Total Amount Funded By City"
   ]
  },
  {
   "cell_type": "code",
   "execution_count": null,
   "metadata": {},
   "outputs": [],
   "source": [
    "def total_amt_funded(df, val_to_sort, title_v):\n",
    "    df_copy = df.copy()\n",
    "    # replace NaN with '0'\n",
    "    df_copy.fillna('0', inplace=True)\n",
    "\n",
    "    # convert the values\n",
    "    df_copy[' funding_total_usd '] = df_copy[' funding_total_usd '].apply(convert_fund)\n",
    "\n",
    "    # dataframe to count total amount funded per industry\n",
    "    df_total_fund = pd.value_counts(df_copy[val_to_sort]).to_frame()\n",
    "    df_total_fund = df_total_fund[:20]\n",
    "\n",
    "    # drop the number of companies column and add total funding column\n",
    "    df_total_fund.drop([val_to_sort], axis=1, inplace=True)\n",
    "    fund = [0,0,0,0,0,0,0,0,0,0,0,0,0,0,0,0,0,0,0,0]\n",
    "    df_total_fund['total_fund'] = fund\n",
    "\n",
    "    # drop any row with no funding\n",
    "    df_fund = df_copy.copy()\n",
    "    df_fund = df_fund[df_fund[' funding_total_usd '] > 0]\n",
    "\n",
    "    # find total amounted funded by industry\n",
    "    for index, row in df_fund.iterrows():\n",
    "\n",
    "        # if there was funding\n",
    "        if df_total_fund.index.contains(row[val_to_sort]):\n",
    "            df_total_fund.loc[row[val_to_sort], 'total_fund'] += row[' funding_total_usd ']\n",
    "\n",
    "    # sort the value\n",
    "    df_total_fund.sort_values(by=['total_fund'], inplace=True, ascending=False)\n",
    "\n",
    "    # visualize the data\n",
    "    df_total_fund = df_total_fund.floordiv(1000000)\n",
    "    graph = df_total_fund.plot.bar(title=title_v,legend=False)\n",
    "    graph.set_xlabel(val_to_sort)\n",
    "    graph.set_ylabel('Total Funding in Million USD')\n",
    "    \n",
    "    return df_total_fund"
   ]
  },
  {
   "cell_type": "code",
   "execution_count": null,
   "metadata": {
    "scrolled": false
   },
   "outputs": [],
   "source": [
    "df_tot_fund = total_amt_funded(df_loc, \"city\", \"Total Amount Funded per City\")"
   ]
  },
  {
   "cell_type": "markdown",
   "metadata": {},
   "source": [
    "Without a doubt, New York and Silicon Valley have the most total amount of funding out all the cities as we could see they have the most number of companies in the previous graph."
   ]
  },
  {
   "cell_type": "markdown",
   "metadata": {},
   "source": [
    "### Average Capital Raised By City"
   ]
  },
  {
   "cell_type": "code",
   "execution_count": null,
   "metadata": {},
   "outputs": [],
   "source": [
    "def avg_fund_bar_and_box(df, df_funding, val_to_sort, title_v):\n",
    "    \n",
    "    ########## bar graph ##########\n",
    "    \n",
    "    df_fund = df.copy()\n",
    "\n",
    "    # replace NaN with '0'\n",
    "    df_fund.fillna('0', inplace=True)\n",
    "\n",
    "    # convert the values\n",
    "    df_fund[' funding_total_usd '] = df_fund[' funding_total_usd '].apply(convert_fund)\n",
    "    \n",
    "    # drop any row with no funding\n",
    "    df_fund = df_fund[df_fund[' funding_total_usd '] > 0]\n",
    "    \n",
    "    # dataframe to count average amount funded per industry\n",
    "    df_loc_avg_fund = df_funding.copy()\n",
    "\n",
    "    # add funding rounds column\n",
    "    funding_rounds = [0,0,0,0,0,0,0,0,0,0,0,0,0,0,0,0,0,0,0,0]\n",
    "    df_loc_avg_fund['funding_rounds'] = funding_rounds\n",
    "\n",
    "    # find total amounted funded by industry\n",
    "    for index, row in df_fund.iterrows():\n",
    "\n",
    "        # if there was funding\n",
    "        if df_loc_avg_fund.index.contains(row[val_to_sort]):\n",
    "            df_loc_avg_fund.loc[row[val_to_sort], 'funding_rounds'] += row['funding_rounds']\n",
    "\n",
    "    # find the average funding and drop unnecessary columns\n",
    "    df_loc_avg_fund['average_fund'] = df_loc_avg_fund['total_fund'] / df_loc_avg_fund['funding_rounds']\n",
    "    df_loc_avg_fund.drop(['total_fund','funding_rounds'],axis=1,inplace=True)\n",
    "\n",
    "    # sort the value\n",
    "    df_loc_avg_fund.sort_values(by=['average_fund'], inplace=True, ascending=False)\n",
    "\n",
    "    # visualize the data\n",
    "    graph = df_loc_avg_fund.plot.bar(title=title_v + \" (Mean)\",legend=False)\n",
    "    graph.set_xlabel(val_to_sort)\n",
    "    graph.set_ylabel('Average Funding in Million USD')\n",
    "        \n",
    "    ########## boxplot graph ##########\n",
    "    \n",
    "    # copy the original dataframe\n",
    "    df_loc_avg_fund = df_fund.copy()\n",
    "    \n",
    "    # find the average funding for each company\n",
    "    df_loc_avg_fund['average_funding'] = df_loc_avg_fund[' funding_total_usd '] / df_loc_avg_fund['funding_rounds']\n",
    "\n",
    "    # drop unneccessary columns\n",
    "    df_loc_avg_fund.drop(['funding_rounds',' funding_total_usd '],axis=1,inplace=True)\n",
    "\n",
    "    # construct a dictionary with the top 20 cities\n",
    "    lst_top = pd.value_counts(df[val_to_sort]).to_frame()[:20].index.tolist()\n",
    "    lst_top = dict.fromkeys(lst_top,0)\n",
    "    for key, value in lst_top.items():\n",
    "        lst_top[key] = list() \n",
    "        \n",
    "    # fill the each list with average funding of each company in its city\n",
    "    for index, row in df_loc_avg_fund.iterrows():\n",
    "        if row[val_to_sort] in lst_top.keys():\n",
    "            try:\n",
    "                lst_top[row[val_to_sort]].append(int(row['average_funding']))\n",
    "            except:\n",
    "                print(row[val_to_sort], row['average_funding'])\n",
    "\n",
    "    # find maximum length of the lists\n",
    "    maxLength = 0\n",
    "    for val, funding in lst_top.items():\n",
    "        if maxLength < len(funding):\n",
    "            maxLength = len(funding)\n",
    "\n",
    "    # make the lists to have same length and fill it with NaN\n",
    "    for val, funding in lst_top.items():\n",
    "        for i in range(maxLength - len(funding)):\n",
    "            funding.append(np.NaN)\n",
    "\n",
    "    # build dataframe from the dictionary\n",
    "    df_loc_boxplot = pd.DataFrame(lst_top)\n",
    "\n",
    "    # sort it by median value\n",
    "    med_loc = df_loc_boxplot.median()\n",
    "    med_loc.sort_values(ascending=False, inplace=True)\n",
    "    df_loc_boxplot = df_loc_boxplot[med_loc.index]\n",
    "\n",
    "    # visualize the data\n",
    "    df_loc_boxplot = df_loc_boxplot.floordiv(1000000)\n",
    "    graph = df_loc_boxplot.plot.box(title=title_v + \" (Boxplot)\",legend=False,rot=90,showfliers=False)\n",
    "    graph.set_xlabel(val_to_sort)\n",
    "    graph.set_ylabel('Average Funding in Million USD')"
   ]
  },
  {
   "cell_type": "code",
   "execution_count": null,
   "metadata": {},
   "outputs": [],
   "source": [
    "avg_fund_bar_and_box(df_loc, df_tot_fund, \"city\", \"Average Amount Funded Per City\")"
   ]
  },
  {
   "cell_type": "markdown",
   "metadata": {},
   "source": [
    "Interestingly, Houston has the outstanding average funding out of all the cities, while New York and Silicon Valley have about the same amount to the other cities."
   ]
  },
  {
   "cell_type": "markdown",
   "metadata": {},
   "source": [
    "We used a boxplot here to exclude outliers. This graph finally shows us which city really gets the highest average funding. New York and Silicon Valley are ranked relatively lower than previous graphs, meaning their high total funding amounts were sololy because of the massive number of companies over the other cities. Houston also is not in the top three in this graph even with the outstanding result in the bar graph. It indicates that Houston has a few companies that received huge amount of funding, which brought its average amount higher than the others. In this graph, we can conclude that Cambridge is the best city for start-up companies to get most funding, rather than Silicon Valley, New York, or Houston."
   ]
  },
  {
   "cell_type": "markdown",
   "metadata": {},
   "source": [
    "### Ratio of Closed to (Aquired & IPO)"
   ]
  },
  {
   "cell_type": "code",
   "execution_count": null,
   "metadata": {},
   "outputs": [],
   "source": [
    "def rat_closed_to_aquired(df, value_to_sort, title_v):\n",
    "    df_rat = df.copy()\n",
    "    list_val = dict(pd.value_counts(df_rat[value_to_sort]))\n",
    "    vals = dict()\n",
    "    df_rat = df.reset_index(drop=True)\n",
    "\n",
    "    for (x,y) in list_val.items():\n",
    "        vals[x] = [0,0]\n",
    "\n",
    "    for i in range(len(df_rat)):\n",
    "        val = df_rat.loc[i][value_to_sort]\n",
    "        stat = df_rat.loc[i]['status']\n",
    "\n",
    "        if stat=='closed':\n",
    "            vals[val][0]+=1\n",
    "        elif stat=='ipo'or stat=='acquired':\n",
    "            vals[val][1]+=1\n",
    "    \n",
    "    count=0\n",
    "    newdict = dict()\n",
    "    for (x,y) in list_val.items():\n",
    "        if count < 20:\n",
    "            sum = vals[x][0]+vals[x][1]\n",
    "            newdict[x] = [vals[x][0] / sum , vals[x][1] / sum]\n",
    "        count+=1\n",
    "\n",
    "    newdf2 = pd.DataFrame.from_dict(newdict,orient='index')\n",
    "    newdf2 = newdf2.sort_values(by=[0],ascending=False)\n",
    "    newdf2.columns = ['closed', 'IPO & acquired']\n",
    "    ax = newdf2.plot(kind='bar',stacked=True)\n",
    "    ax.set_title(title_v)\n",
    "    ax.set_xlabel(value_to_sort)\n",
    "    ax.set_ylabel(\"ratio\")\n",
    "    for rec1, label1 in zip(ax.patches,newdf2['closed'].round(1).astype(str)):\n",
    "        height1 = rec1.get_height()\n",
    "        ax.text(rec1.get_x() + rec1.get_width() , height1 + .05, label1,\n",
    "               ha = 'center', va='bottom')\n",
    "    plt.legend(loc='upper right')"
   ]
  },
  {
   "cell_type": "code",
   "execution_count": null,
   "metadata": {},
   "outputs": [],
   "source": [
    "rat_closed_to_aquired(df_loc, \"city\", \"Closed v. (IPO & Acquired) Ratio by Location\")"
   ]
  },
  {
   "cell_type": "markdown",
   "metadata": {},
   "source": [
    "### Longevity between first operation and last operation"
   ]
  },
  {
   "cell_type": "markdown",
   "metadata": {},
   "source": [
    "We use a function longevity to calculate the length of total time that each startup exits. If there is no data about when the company is founded on, drop this row, because we cannot calculate the longevity. After that, if the row is missing \"closed on\" information, by default, this company is still operating. In this case, we will calculate the longevity based on the current year (2019).\n",
    "\n",
    "To show the relationship between logevity and location, we calculate the average longevity of each city and rank the cities by the average longevity from high to low. In this project, we focus on the top 20 cities with highest longeivity and show the bar plot in the following."
   ]
  },
  {
   "cell_type": "code",
   "execution_count": null,
   "metadata": {},
   "outputs": [],
   "source": [
    "def longevity(row):\n",
    "    if(pd.isnull(row['closed_on'])):\n",
    "        return (2019 - int(row['founded_on'][0:4]))\n",
    "    else:\n",
    "        return (int(row['closed_on'][0:4]) - int(row['founded_on'][0:4]))"
   ]
  },
  {
   "cell_type": "code",
   "execution_count": null,
   "metadata": {},
   "outputs": [],
   "source": [
    "def long_btwn_fst_and_lst(df, value_to_check, title_v = \"\"):\n",
    "    df_temp = df.copy()\n",
    "    df_temp.head()\n",
    "    df_temp.dropna(subset=['founded_on'], inplace=True)\n",
    "    df_temp['longevity'] = df_temp.apply(lambda row: longevity(row), axis=1)\n",
    "    #Data for industry\n",
    "    df_val = df[value_to_check].value_counts().index[:20]\n",
    "    df_avgL = np.zeros(len(df_val))\n",
    "    for i in range(len(df_val)):\n",
    "        df_avgL[i] = df_temp.loc[df[value_to_check] == df_val[i]]['longevity'].mean()\n",
    "\n",
    "    #Draw the bar plot\n",
    "    df_longevity = pd.DataFrame({value_to_check:df_val, 'average longevity':df_avgL})\n",
    "    df_longevity = df_longevity.sort_values(by = ['average longevity'],ascending = False)\n",
    "    graph = df_longevity.plot.bar(x=value_to_check, y='average longevity', color = (0.2, 0.4, 0.6, 0.8),legend=False, title = title_v)\n",
    "    graph.set_xlabel(value_to_check)\n",
    "    graph.set_ylabel('average longeivity (yr)')"
   ]
  },
  {
   "cell_type": "code",
   "execution_count": null,
   "metadata": {},
   "outputs": [],
   "source": [
    "long_btwn_fst_and_lst(df_loc, 'city', title_v = \"Average Longevity By City\")"
   ]
  },
  {
   "cell_type": "markdown",
   "metadata": {},
   "source": [
    "From the graph above, we can see that Houston has the highest average longeivity among all cities in the US."
   ]
  },
  {
   "cell_type": "markdown",
   "metadata": {},
   "source": [
    "## Most Successful By Industry"
   ]
  },
  {
   "cell_type": "markdown",
   "metadata": {},
   "source": [
    "There are many industires that these startups are involved in. Some very unique topics and some very broad that don't say alot about what the company does. As such we need to find some of the most popular industies and see how each company fits into these. For each company, the data shows a list of categories the company is involved in. To clean this data we will create a bucket of the most popular 20 industies where each company that reports that industry will be in it. (Note some companies can be in multiple buckets) This list of 20 industries will have some broad terms like apps removed and replaced with the next highest topic occurance. This choice of non-specificity is done manually. And we have a description as to why the choice was removed.\n",
    "\n",
    "We will then analyze this data by the same criteria of success as done in location"
   ]
  },
  {
   "cell_type": "markdown",
   "metadata": {},
   "source": [
    "### Sorting and Cleaning Data By Industry "
   ]
  },
  {
   "cell_type": "markdown",
   "metadata": {},
   "source": [
    "First we sort by all of the industries listed for every company. We drop any that don't have an industry reported, rather than mark as other, because they might still belong in one of these other lists."
   ]
  },
  {
   "cell_type": "code",
   "execution_count": null,
   "metadata": {},
   "outputs": [],
   "source": [
    "# copy the original dataframe\n",
    "df_ind = df.copy()\n",
    "\n",
    "# drop rows with no industry category and irrelevant columns\n",
    "df_ind.dropna(subset=['category_group_list'], inplace=True)"
   ]
  },
  {
   "cell_type": "markdown",
   "metadata": {},
   "source": [
    "Here, we are going to use a function written by James Allen from https://gist.github.com/jlln.\n",
    "\n",
    "This function efficiently split Pandas Dataframe cells containing lists into multiple rows, duplicating the other column's values."
   ]
  },
  {
   "cell_type": "code",
   "execution_count": null,
   "metadata": {},
   "outputs": [],
   "source": [
    "# CODE FRAGMENT USED FROM https://gist.github.com/jlln/338b4b0b55bd6984f883\n",
    "def splitDataFrameList(df,target_column,separator):\n",
    "    '''\n",
    "    df = dataframe to split,\n",
    "    target_column = the column containing the values to split\n",
    "    separator = the symbol used to perform the split\n",
    "    returns: a dataframe with each entry for the target column separated, with each element moved into a new row. \n",
    "    The values in the other columns are duplicated across the newly divided rows.\n",
    "    '''\n",
    "    def splitListToRows(row,row_accumulator,target_column,separator):\n",
    "        split_row = row[target_column].split(separator)\n",
    "        for s in split_row:\n",
    "            new_row = row.to_dict()\n",
    "            new_row[target_column] = s\n",
    "            row_accumulator.append(new_row)\n",
    "    new_rows = []\n",
    "    df.apply(splitListToRows,axis=1,args = (new_rows,target_column,separator))\n",
    "    new_df = pd.DataFrame(new_rows)\n",
    "    return new_df"
   ]
  },
  {
   "cell_type": "code",
   "execution_count": null,
   "metadata": {},
   "outputs": [],
   "source": [
    "# split the companies with multiple industries into separate rows\n",
    "df_ind_split = splitDataFrameList(df_ind,'category_group_list','|')\n",
    "\n",
    "# rename the column\n",
    "df_ind_split.rename(index=str, columns={'category_group_list':'industry'}, inplace=True)"
   ]
  },
  {
   "cell_type": "markdown",
   "metadata": {},
   "source": [
    "Now some of these topics are rather broad. I.E. (Software, Hardware, Internet Services, Information Technology, and Science and Engineering) So we will ignore these categories. Otherwise for each category a company has listed we will create a new row with just the one category"
   ]
  },
  {
   "cell_type": "code",
   "execution_count": null,
   "metadata": {},
   "outputs": [],
   "source": [
    "bad_industry = ['software','internet services','information technology','hardware','science and engineering']\n",
    "for ind in bad_industry:\n",
    "    df_ind_split.drop(df_ind_split.loc[df_ind_split['industry'] == ind].index, inplace=True)"
   ]
  },
  {
   "cell_type": "markdown",
   "metadata": {},
   "source": [
    "### Total Companies by Industry"
   ]
  },
  {
   "cell_type": "code",
   "execution_count": null,
   "metadata": {},
   "outputs": [],
   "source": [
    "total_comp_by_val(df_ind_split, 'industry', 'Total Companies per Industry')"
   ]
  },
  {
   "cell_type": "markdown",
   "metadata": {},
   "source": [
    "Out of many industries, the most popular industry for start-up companies was Health Care, followed by Media & Entertainment, and Finaicial Servies."
   ]
  },
  {
   "cell_type": "markdown",
   "metadata": {},
   "source": [
    "### Total Amount Funded by Industry"
   ]
  },
  {
   "cell_type": "code",
   "execution_count": null,
   "metadata": {},
   "outputs": [],
   "source": [
    "df_tot_fund = total_amt_funded(df_ind_split, \"industry\", \"Total Amount Funded per Industry\")"
   ]
  },
  {
   "cell_type": "markdown",
   "metadata": {},
   "source": [
    "As we could predict from the previous graph, Health Care has the biggest total funding out of all. However, Media & Entertainment and Financial Services got less total funding than mobile and Biotechnology depite their number of companies."
   ]
  },
  {
   "cell_type": "markdown",
   "metadata": {},
   "source": [
    "### Average Capital Raised By Industry"
   ]
  },
  {
   "cell_type": "code",
   "execution_count": null,
   "metadata": {},
   "outputs": [],
   "source": [
    "avg_fund_bar_and_box(df_ind_split, df_tot_fund, \"industry\", \"Average Amount Funded Per Industry\")"
   ]
  },
  {
   "cell_type": "markdown",
   "metadata": {},
   "source": [
    "Interestingly, Transportation has the highest average funding out of all the other industries, while Health Care is ranked far behind. Also, Energy and Real Estate became second and third places, making a huge step from the lower half in the previous graphs."
   ]
  },
  {
   "cell_type": "markdown",
   "metadata": {},
   "source": [
    "Here we discovered that Transportation had a few company with exceptionally large funding affecting the average funding in the industry. After removing all the outliers, we could conclude that Biotechnology is the real industry with the highest average funding amount out of all."
   ]
  },
  {
   "cell_type": "markdown",
   "metadata": {},
   "source": [
    "### Ratio of Closed to (Aquired & IPO)"
   ]
  },
  {
   "cell_type": "code",
   "execution_count": null,
   "metadata": {},
   "outputs": [],
   "source": [
    "rat_closed_to_aquired(df_ind_split, 'industry', \"Closed v. (IPO & Acquired) Ratio by Industry\")"
   ]
  },
  {
   "cell_type": "markdown",
   "metadata": {},
   "source": [
    "### Analysis for Closed v. (Acquired & IPO): \n",
    "\n",
    "We decided to analyze the ratio of closed v. (acquired & IPO) companies categorized by industries and locations because it gives us a visual understanding of the success (defined here by a company being acquired or obtaining IPO) and failure (defined here by a company being closed).\n",
    "\n",
    "To generate the graphs, we started by constructing two dictionaries in the format of \n",
    "\n",
    "1. key: industry, value: [number of closed companies under the industry, number of acquired & IPO companies under the industry]\n",
    "2. key: city, value: [number of closed companies in the city, number of acquired & IPO companies in the city]\n",
    "\n",
    "from the dataframe that we cleaned (removed vague industries). We traversed through each row in the dataframe and used each row's industry/city to modify the dictionary values. For example, if a company is under \"Apps\" for industry and \"Palo Alto\" for city, and \"closed\" for its status, then we simply increment the first element of the dictionary entry with the key value \"Apps\" and the key value \"Palo Alto\".\n",
    "\n",
    "After obtaining the dictionaries, we constructed two new dataframes for generating the graphs. We only included the industries and cities with the top 20 most number of companies to avoid extreme data. The dataframes have the following columns\n",
    "\n",
    "1. index | industry | ratio of closed companies | ratio of acquired & IPO companies\n",
    "\n",
    "2. index | city | ratio of closed companies | ratio of acquired & IPO companies.\n",
    "\n",
    "From here, we sorted the categories by the ratio of closed companies and used the plot function of pandas dataframe to generate the stacked bar charts. \n",
    "\n",
    "\n",
    "\n",
    "#### Industries\n",
    "Top 3 with lowest closed rate: \n",
    "1. Manufacturing\n",
    "2. Real estate\n",
    "3. Food and beverage\n",
    "\n",
    "Top 3 with highest closed rate:\n",
    "1. Apps\n",
    "2. Mobile\n",
    "3. Media and entertainment\n",
    "\n",
    "\n",
    "Since both Apps and Mobile industries can be categorized under technology, our finding shows that technology industry has a higher closed rate than other industries. \n",
    "\n",
    "#### Cities\n",
    "Top 3 with lowest closed rate: \n",
    "1. Houston\n",
    "2. Dallas\n",
    "3. Denver\n",
    "\n",
    "Top 3 with highest closed rate:\n",
    "1. Palo Alto\n",
    "2. Silicon Valley\n",
    "3. Los Angeles\n",
    "\n",
    "We can conclude that big cities in California like Silicon Valley, and Los Angeles have a higher closed rate than other cities.\n",
    "\n",
    "We can then conclude that starting a business in technology industry and in the cities like Silicon Valley, and Los Angeles will more likely fail (more likely to close than being acquired or having IPO). In contrast, having a manufacturing business in Houston, Dallas, or Denver will more likely to succeed. Intuitively, it makes sense that cities with high living costs (like California cities) have more risks for startup companies because the comapnies would have a difficult time covering all its expenses before they make a profit. Similarly, technology businesses need to constantly obtain the most recent technical information to stay competitive, and thus makes the industry more demanding than others.\n",
    "\n",
    "Because the graphs show no significant difference in ratio (the highest is 0.3 and the lowest is 0.1), we can also conclude that ratio of closed and (IPO & acquired) is not a strong indicator for predicting the success/failure of companies. In other words, we should use more than just the ratio of closed and acquired & IPO companies to measure the effect of industries and location on startup companies."
   ]
  },
  {
   "cell_type": "markdown",
   "metadata": {},
   "source": [
    "### Longevity between first operation and last operation"
   ]
  },
  {
   "cell_type": "markdown",
   "metadata": {},
   "source": [
    "We did the same thing here to show the relationship between longevity and industry."
   ]
  },
  {
   "cell_type": "code",
   "execution_count": null,
   "metadata": {},
   "outputs": [],
   "source": [
    "long_btwn_fst_and_lst(df_ind_split, \"industry\", \"Average Longevity By Industry\")"
   ]
  },
  {
   "cell_type": "markdown",
   "metadata": {},
   "source": [
    "### Analysis for longevity: \n",
    "\n",
    "#### Industries\n",
    "Top 3 with highest longevity: \n",
    "1. Manufacturing\n",
    "2. Financial services\n",
    "3. Energy\n",
    "\n",
    "\n",
    "#### Cities\n",
    "Top 3 with highest longevity: \n",
    "1. Houston\n",
    "2. Dallas\n",
    "3. Atlanta\n",
    "\n"
   ]
  },
  {
   "cell_type": "markdown",
   "metadata": {},
   "source": [
    "## Most Successful By Industry and Location"
   ]
  },
  {
   "cell_type": "markdown",
   "metadata": {},
   "source": [
    "Instead of having multiple sets of graphs for each city or industry this code section is built to take in a variable for an industry or city, and will print out subsequent graphs for industries in that city or cities for that industry respectivly. We used this section to explore different cities and industries."
   ]
  },
  {
   "cell_type": "code",
   "execution_count": null,
   "metadata": {},
   "outputs": [],
   "source": [
    "# ONLY FILL IN THE VALUE OF EITHER CITY OR INDUSTRY\n",
    "\n",
    "### REPLACE NONE WITH CITY HERE ###\n",
    "cit_to_exp = \"Houston\"\n",
    "\n",
    "### REPLACE NONE WITH INDUSTRY HERE ###\n",
    "\n",
    "ind_to_exp = None\n",
    "\n",
    "assert(bool(cit_to_exp) != bool(ind_to_exp))"
   ]
  },
  {
   "cell_type": "code",
   "execution_count": null,
   "metadata": {},
   "outputs": [],
   "source": [
    "def explore_city (df_ind_split, cit_to_explore):\n",
    "    if (cit_to_exp == None):\n",
    "        return\n",
    "    df_to_exp = df_ind_split.copy()\n",
    "    df_to_exp = df_to_exp[df_to_exp['city'] == cit_to_explore]\n",
    "    if (len(df.index) < 50):\n",
    "        print(\"Not Enough Data to Explore\")\n",
    "    else:\n",
    "        total_comp_by_val(df_to_exp, 'industry', 'Total Companies per Industry in '+ cit_to_explore)\n",
    "        df_tot_fund = total_amt_funded(df_to_exp, \"industry\", \"Total Amount Funded per Industry in \" + cit_to_explore)\n",
    "        avg_fund_bar_and_box(df_to_exp, df_tot_fund, \"industry\", \"Average Amount Funded Per Industry in \" + cit_to_explore)\n",
    "        rat_closed_to_aquired(df_to_exp, 'industry', \"Closed v. (IPO & Acquired) Ratio by Industry in \" + cit_to_explore)\n",
    "        long_btwn_fst_and_lst(df_to_exp, \"industry\", \"Average Longevity By Industry in \" + cit_to_explore) "
   ]
  },
  {
   "cell_type": "code",
   "execution_count": null,
   "metadata": {},
   "outputs": [],
   "source": [
    "def explore_industry (df_ind_split, ind_to_explore):\n",
    "    if (ind_to_exp == None):\n",
    "        return\n",
    "    df_to_exp = df_ind_split.copy()\n",
    "    df_to_exp = df_to_exp[df_to_exp['industry'] == ind_to_explore]\n",
    "    if (len(df.index) < 50):\n",
    "        print(\"Not Enough Data to Explore\")\n",
    "    else:\n",
    "        total_comp_by_val(df_to_exp, 'city', 'Total Companies By City for '+ ind_to_explore)\n",
    "        df_tot_fund = total_amt_funded(df_to_exp, \"city\", \"Total Amount Funded By City for \"+ ind_to_explore)\n",
    "        avg_fund_bar_and_box(df_to_exp, df_tot_fund, \"city\", \"Average Amount Funded By City for \"+ ind_to_explore)\n",
    "        rat_closed_to_aquired(df_to_exp, 'city', \"Closed v. (IPO & Acquired) Ratio by City for \"+ ind_to_explore)\n",
    "        long_btwn_fst_and_lst(df_to_exp, \"city\", \"Average Longevity By City for \" + ind_to_explore)"
   ]
  },
  {
   "cell_type": "code",
   "execution_count": null,
   "metadata": {},
   "outputs": [],
   "source": [
    "explore_city(df_ind_split,cit_to_exp)\n",
    "explore_industry(df_ind_split,ind_to_exp)"
   ]
  },
  {
   "cell_type": "markdown",
   "metadata": {},
   "source": [
    "# Ethics & Privacy"
   ]
  },
  {
   "cell_type": "markdown",
   "metadata": {},
   "source": [
    "For the ethical considerations, we referred to [Deon’s Ethics Checklist](https://hub.packtpub.com/introducing-deon-a-tool-for-data-scientists-to-add-an-ethics-checklist/):\n",
    "\n",
    "__Data Collection:__\n",
    "The data we are using is from a database called Crunchbase, which provides datasets to the public. Their terms and services do not require their users to ask for any consent to use their data unless the user is underage. The dataset itself only contains quantitative values that state simple facts, such as founding dates of companies or amount of funding, for all the startups in the region, so it is free from collection/source bias. All the data are about each startup company, so there is no exposure of personally identifiable information.\n",
    "\n",
    "__Data Storage:__\n",
    "We will store our datasets in our Google drive which only our team members have access to. Any unnecessary data will be removed from the storage during the process. After submission of this project, all the remaining data in the Google drive will be deleted.\n",
    "\n",
    "__Analysis:__\n",
    "We are measuring the performance of startups based on factors such as investments, lifespan and profits. However, it’s hard to quantify the success of a startup precisely.\n",
    "\n",
    "__Potential Harm and Benefits:__ \n",
    "Potential investors and companies can use this data to guide their business endeavours as they can make informed decisions. \n",
    "However, potential investors and companies who use our conclusion to decide whether to invest in startups or to build up a startup may in some ways be hindered by the data provided, despite the existence of other variables that may influence their success and failure rate and may cause for the economy of various locations and industries to be polarized.\n"
   ]
  },
  {
   "cell_type": "markdown",
   "metadata": {},
   "source": [
    "# Conclusion & Discussion"
   ]
  },
  {
   "cell_type": "markdown",
   "metadata": {},
   "source": [
    "- Based on our research and data analysis, we were able to find the most successful location and industry for a startup. Our data and analysis prove that there is a difference between categorizing the startups based on the industry and based on the location.\n",
    "- In the graph, we show the top 20 cities and industries for the startup measured in different aspects and notice that the strength of a location or industry grows exponentially as the rank in the graphs goes up.\n",
    "- From this analysis, we can see that our hypothesis that the location and industry of a startup greatly affect the company’s overall success is incorrect.\n",
    "- In our hypothesis, we expected that Silicon Valley would be the best place, but it turned out it is not. Those start-up companies in Silicon Valley definitely got large amount of funding in total, but they have a lot of number of companies as well which brought down the average funding amount by significantly, which made [CITY] the best place instead.\n",
    "- Also Apps was not the best industry either; in fact, it was the worst one in terms of its closed ratio."
   ]
  }
 ],
 "metadata": {
  "kernelspec": {
   "display_name": "Python 3",
   "language": "python",
   "name": "python3"
  },
  "language_info": {
   "codemirror_mode": {
    "name": "ipython",
    "version": 3
   },
   "file_extension": ".py",
   "mimetype": "text/x-python",
   "name": "python",
   "nbconvert_exporter": "python",
   "pygments_lexer": "ipython3",
   "version": "3.6.7"
  }
 },
 "nbformat": 4,
 "nbformat_minor": 2
}
