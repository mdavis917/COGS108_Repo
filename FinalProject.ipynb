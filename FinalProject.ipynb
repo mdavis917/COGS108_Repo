{
 "cells": [
  {
   "cell_type": "markdown",
   "metadata": {},
   "source": [
    "# COGS 108 - Final Project "
   ]
  },
  {
   "cell_type": "markdown",
   "metadata": {},
   "source": [
    "# Overview"
   ]
  },
  {
   "cell_type": "markdown",
   "metadata": {},
   "source": [
    "Question: Does location and industry contribute to the overall success (defined by the total funding and market value) of a startup more than other factors?  \n",
    "Hypothesis: The location and industry of startups are the main contributors to the overall success of a startup compared to other factors. We believe so because location is often correlated with different amount of business opportunities, and industry often dictates the profit margins and market."
   ]
  },
  {
   "cell_type": "markdown",
   "metadata": {},
   "source": [
    "# Names\n",
    "\n",
    "- Hansae Lee\n",
    "- Eun Hye (Grace) Oh\n",
    "- Iris Nayki\n",
    "- Matthew Davis\n",
    "- Tianxing Liu\n",
    "- Yuting Xu"
   ]
  },
  {
   "cell_type": "markdown",
   "metadata": {},
   "source": [
    "#### Group Members IDs\n",
    "\n",
    "- A14062618\n",
    "- A12960475\n",
    "- A14520625\n",
    "- A13050499\n",
    "- A14800461\n",
    "- A13361405"
   ]
  },
  {
   "cell_type": "markdown",
   "metadata": {},
   "source": [
    "# Research Question"
   ]
  },
  {
   "cell_type": "markdown",
   "metadata": {},
   "source": [
    "*Does location and industry contribute to the overall success (defined by the total funding and market value) of a startup more than other factors?*"
   ]
  },
  {
   "cell_type": "markdown",
   "metadata": {},
   "source": [
    "## Background and Prior Work"
   ]
  },
  {
   "cell_type": "markdown",
   "metadata": {},
   "source": [
    "*Fill in your background and prior work here* \n",
    "\n",
    "References (include links):\n",
    "- 1)\n",
    "- 2)"
   ]
  },
  {
   "cell_type": "markdown",
   "metadata": {},
   "source": [
    "# Hypothesis\n"
   ]
  },
  {
   "cell_type": "markdown",
   "metadata": {},
   "source": [
    "*Hypothesis: The location and industry of startups are the main contributors to the overall success of a startup compared to other factors. We believe so because location is often correlated with different amount of business opportunities, and industry often dictates the profit margins and market.*"
   ]
  },
  {
   "cell_type": "markdown",
   "metadata": {},
   "source": [
    "# Dataset(s)"
   ]
  },
  {
   "cell_type": "markdown",
   "metadata": {},
   "source": [
    "*In order to answer our research question, we found Crunchbase (https://www.crunchbase.com), a platform for finding company data. They have datasets for companies and investors, built to track startups and thier finances. Crunchbases data is private and requires a subscription to access. We contacted Crunchbase as a team to ask for access to thier datasets for the purposes of this project. They kindly agreed to help our project and granted us an API key to download thier data set free of charge. We included a copy of the downloaded dataset in our github, but we ask that it is not redistributed to respect the access given by Crunchbase.* \n",
    "\n",
    "- Dataset Name: Crunchbase Daily Export\n",
    "- Link to the dataset: \n",
    "    - https://github.com/mdavis917/COGS108_Repo\n",
    "    - https://data.crunchbase.com/docs\n",
    "    - https://www.crunchbase.com/\n",
    "- Number of observations:\n",
    "\n",
    "1-2 sentences describing each dataset. \n",
    "\n",
    "If you plan to use multiple datasets, add 1-2 sentences about how you plan to combine these datasets."
   ]
  },
  {
   "cell_type": "markdown",
   "metadata": {},
   "source": [
    "# Setup"
   ]
  },
  {
   "cell_type": "code",
   "execution_count": 1,
   "metadata": {},
   "outputs": [],
   "source": [
    "%matplotlib inline\n",
    "import pandas as pd\n",
    "import numpy as np\n",
    "import operator\n",
    "import matplotlib.pyplot as plt\n",
    "df = pd.read_csv('crunchbase_export.csv' , encoding='latin-1', low_memory = False)"
   ]
  },
  {
   "cell_type": "markdown",
   "metadata": {},
   "source": [
    "# Data Cleaning"
   ]
  },
  {
   "cell_type": "markdown",
   "metadata": {},
   "source": [
    "Describe your data cleaning steps here."
   ]
  },
  {
   "cell_type": "code",
   "execution_count": 2,
   "metadata": {},
   "outputs": [],
   "source": [
    "df.drop(['company_name','region','domain','short_description', 'category_list', ' employee_count ','email','phone','cb_url', 'twitter_url', 'facebook_url' , 'uuid'], axis=1, inplace=True)\n",
    "df = df[df['country_code'] == 'USA']\n",
    "df.drop(['country_code'], axis=1, inplace=True)"
   ]
  },
  {
   "cell_type": "markdown",
   "metadata": {},
   "source": [
    "This is a function to be used later. It converts input string value into an integer value."
   ]
  },
  {
   "cell_type": "code",
   "execution_count": 3,
   "metadata": {},
   "outputs": [],
   "source": [
    "# a function to convert incoming string to an integer value with no commas\n",
    "def convert_fund(str_in):\n",
    "    \n",
    "    # remove commas\n",
    "    str_in = str_in.strip()\n",
    "    str_in = str_in.replace(',', '')\n",
    "    str_in = str_in.strip()\n",
    "    \n",
    "    # convert it to an integer and return it\n",
    "    return int(str_in)"
   ]
  },
  {
   "cell_type": "markdown",
   "metadata": {},
   "source": [
    "# Data Analysis & Results"
   ]
  },
  {
   "cell_type": "markdown",
   "metadata": {},
   "source": [
    "In order to see how Location and Industry might interact first we want to analyze each of those aspects seperatly."
   ]
  },
  {
   "cell_type": "markdown",
   "metadata": {},
   "source": [
    "## Most Successful By Location"
   ]
  },
  {
   "cell_type": "markdown",
   "metadata": {},
   "source": [
    "There are many different cities where startups are created in the United States. As such we would like to make the data more readable by limiting it to a subset of the largest [VALUE WE CHOOSE] cities\n",
    "- We can either import a population data set (like the homework) or just sort by the amount of companies in each city\n",
    "- For cities that are below the threshold we bundle them in a group of other [MAY OR MAY NOT BE VALUABLE]\n",
    "\n",
    "In addition, there are multiple criteria for success that we would like to explore. \n",
    "- Total amount of funding is a valuble metric for success in terms of raising funds. However, a startup can raise tons of capital and still burn through it all. \n",
    "- Success can also be measured by ability to be aquired, or launch as an IPO vs being closed, however a company can be aquired for pennies compared to how much it costs to fund. \n",
    "- Lastly we could use the longevity of a company as a metric of success. However a company could last with negative profits for a long time before finally closing\n",
    "    \n",
    "- We will explore all of these different metrics to see how they change the overall story of how location impacts these factors."
   ]
  },
  {
   "cell_type": "markdown",
   "metadata": {},
   "source": [
    "### Sorting and Cleaning Data for Location"
   ]
  },
  {
   "cell_type": "code",
   "execution_count": 4,
   "metadata": {},
   "outputs": [],
   "source": [
    "# copy the original dataframe\n",
    "df_loc = df.copy()"
   ]
  },
  {
   "cell_type": "markdown",
   "metadata": {},
   "source": [
    "### Total Companies by City"
   ]
  },
  {
   "cell_type": "code",
   "execution_count": 5,
   "metadata": {
    "scrolled": true
   },
   "outputs": [
    {
     "data": {
      "text/plain": [
       "Text(0, 0.5, 'Number of Companies')"
      ]
     },
     "execution_count": 5,
     "metadata": {},
     "output_type": "execute_result"
    },
    {
     "data": {
      "image/png": "[encoded data removed]",
      "text/plain": [
       "<Figure size 432x288 with 1 Axes>"
      ]
     },
     "metadata": {
      "needs_background": "light"
     },
     "output_type": "display_data"
    }
   ],
   "source": [
    "df_loc_copy = df_loc.copy()\n",
    "\n",
    "# drop unneccessary columns\n",
    "df_loc_copy.drop(['state_code','status','category_group_list','founded_on','first_funding_on','last_funding_on','closed_on'],axis=1,inplace=True)\n",
    "\n",
    "# replace NaN with '0'\n",
    "df_loc_copy.fillna('0', inplace=True)\n",
    "\n",
    "# convert the values\n",
    "df_loc_copy[' funding_total_usd '] = df_loc_copy[' funding_total_usd '].apply(convert_fund)\n",
    "\n",
    "# extract number of companies per city\n",
    "df_loc_city = pd.value_counts(df_loc_copy['city']).to_frame()\n",
    "\n",
    "# extract top 20 cities\n",
    "df_loc_city = df_loc_city[:20]\n",
    "\n",
    "# visualize the data\n",
    "graph = df_loc_city.plot.bar(title='Total Companies per City',legend=False)\n",
    "graph.set_xlabel('City')\n",
    "graph.set_ylabel('Number of Companies')"
   ]
  },
  {
   "cell_type": "markdown",
   "metadata": {},
   "source": [
    "As we expected, New York and San Francisco have the most start-up companies in US. Every other cities have fairly similiar number of start-up companies."
   ]
  },
  {
   "cell_type": "markdown",
   "metadata": {},
   "source": [
    "### Total Amount Funded By City"
   ]
  },
  {
   "cell_type": "code",
   "execution_count": 6,
   "metadata": {
    "scrolled": false
   },
   "outputs": [
    {
     "data": {
      "text/plain": [
       "Text(0, 0.5, 'Total Funding in Million USD')"
      ]
     },
     "execution_count": 6,
     "metadata": {},
     "output_type": "execute_result"
    },
    {
     "data": {
      "image/png": "[encoded data removed]",
      "text/plain": [
       "<Figure size 432x288 with 1 Axes>"
      ]
     },
     "metadata": {
      "needs_background": "light"
     },
     "output_type": "display_data"
    }
   ],
   "source": [
    "# dataframe to count total amount funded per city\n",
    "df_loc_total_fund = pd.value_counts(df_loc_copy['city']).to_frame()\n",
    "df_loc_total_fund = df_loc_total_fund[:20]\n",
    "\n",
    "# drop the number of companies column and add total funding column\n",
    "df_loc_total_fund.drop(['city'], axis=1, inplace=True)\n",
    "fund = [0,0,0,0,0,0,0,0,0,0,0,0,0,0,0,0,0,0,0,0]\n",
    "df_loc_total_fund['total_fund'] = fund\n",
    "\n",
    "# drop any row with no funding\n",
    "df_loc_copy = df_loc_copy[df_loc_copy[' funding_total_usd '] > 0]\n",
    "\n",
    "# find total amounted funded by industry\n",
    "for index, row in df_loc_copy.iterrows():\n",
    "\n",
    "    # if there was funding\n",
    "    if df_loc_total_fund.index.contains(row['city']):\n",
    "        df_loc_total_fund.loc[row['city'], 'total_fund'] += row[' funding_total_usd ']\n",
    "\n",
    "# sort the value\n",
    "df_loc_total_fund.sort_values(by=['total_fund'], inplace=True, ascending=False)\n",
    "\n",
    "# divide the funding by million\n",
    "df_loc_total_fund = df_loc_total_fund.floordiv(1000000)\n",
    "\n",
    "# visualize the data\n",
    "graph = df_loc_total_fund.plot.bar(title='Total Amount Funded per City',legend=False)\n",
    "graph.set_xlabel('City')\n",
    "graph.set_ylabel('Total Funding in Million USD')"
   ]
  },
  {
   "cell_type": "markdown",
   "metadata": {},
   "source": [
    "Without a doubt, New York and San Francisco have the most total amount of funding out all the cities as we could see they have the most number of companies in the previous graph."
   ]
  },
  {
   "cell_type": "markdown",
   "metadata": {},
   "source": [
    "### Average Capital Raised By City"
   ]
  },
  {
   "cell_type": "code",
   "execution_count": 7,
   "metadata": {},
   "outputs": [
    {
     "data": {
      "text/plain": [
       "Text(0, 0.5, 'Average Funding in Million USD')"
      ]
     },
     "execution_count": 7,
     "metadata": {},
     "output_type": "execute_result"
    },
    {
     "data": {
      "image/png": "[encoded data removed]",
      "text/plain": [
       "<Figure size 432x288 with 1 Axes>"
      ]
     },
     "metadata": {
      "needs_background": "light"
     },
     "output_type": "display_data"
    }
   ],
   "source": [
    "# dataframe to count average amount funded per industry\n",
    "df_loc_avg_fund = df_loc_total_fund.copy()\n",
    "\n",
    "# add funding rounds column\n",
    "funding_rounds = [0,0,0,0,0,0,0,0,0,0,0,0,0,0,0,0,0,0,0,0]\n",
    "df_loc_avg_fund['funding_rounds'] = funding_rounds\n",
    "\n",
    "# find total amounted funded by industry\n",
    "for index, row in df_loc_copy.iterrows():\n",
    "\n",
    "    # if there was funding\n",
    "    if df_loc_avg_fund.index.contains(row['city']):\n",
    "        df_loc_avg_fund.loc[row['city'], 'funding_rounds'] += row['funding_rounds']\n",
    "\n",
    "# find the average funding and drop unnecessary columns\n",
    "df_loc_avg_fund['average_fund'] = df_loc_avg_fund['total_fund'] / df_loc_avg_fund['funding_rounds']\n",
    "df_loc_avg_fund.drop(['total_fund','funding_rounds'],axis=1,inplace=True)\n",
    "\n",
    "# sort the value\n",
    "df_loc_avg_fund.sort_values(by=['average_fund'], inplace=True, ascending=False)\n",
    "\n",
    "# visualize the data\n",
    "graph = df_loc_avg_fund.plot.bar(title='Average Mean Amount Funded per City',legend=False)\n",
    "graph.set_xlabel('City')\n",
    "graph.set_ylabel('Average Funding in Million USD')"
   ]
  },
  {
   "cell_type": "markdown",
   "metadata": {},
   "source": [
    "Interestingly, Houston has the outstanding average funding out of all the cities, while New York and San Francisco have about the "
   ]
  },
  {
   "cell_type": "code",
   "execution_count": 8,
   "metadata": {},
   "outputs": [
    {
     "data": {
      "text/plain": [
       "Text(0, 0.5, 'Average Funding in Million USD')"
      ]
     },
     "execution_count": 8,
     "metadata": {},
     "output_type": "execute_result"
    },
    {
     "data": {
      "image/png": "[encoded data removed]",
      "text/plain": [
       "<Figure size 432x288 with 1 Axes>"
      ]
     },
     "metadata": {
      "needs_background": "light"
     },
     "output_type": "display_data"
    }
   ],
   "source": [
    "# copy the original dataframe\n",
    "df_loc_avg_fund = df_loc_copy.copy()\n",
    "\n",
    "# find the average funding for each company\n",
    "df_loc_avg_fund['average_funding'] = df_loc_avg_fund[' funding_total_usd '] / df_loc_avg_fund['funding_rounds']\n",
    "\n",
    "# drop unneccessary columns\n",
    "df_loc_avg_fund.drop(['funding_rounds',' funding_total_usd '],axis=1,inplace=True)\n",
    "\n",
    "# construct a dictionary with the top 20 cities\n",
    "cities = pd.value_counts(df_loc_copy['city']).to_frame()[:20].index.tolist()\n",
    "cities = dict.fromkeys(cities,0)\n",
    "for city, value in cities.items():\n",
    "    cities[city] = list()\n",
    "\n",
    "# fill the each list with average funding of each company in its city\n",
    "for index, row in df_loc_avg_fund.iterrows():\n",
    "    if row['city'] in cities.keys():\n",
    "        cities[row['city']].append(int(row['average_funding']))\n",
    "\n",
    "# find maximum length of the lists\n",
    "maxLength = 0\n",
    "for city, funding in cities.items():\n",
    "    if maxLength < len(funding):\n",
    "        maxLength = len(funding)\n",
    "\n",
    "# make the lists to have same length and fill it with NaN\n",
    "for city, funding in cities.items():\n",
    "    for i in range(maxLength - len(funding)):\n",
    "        funding.append(np.NaN)\n",
    "\n",
    "# build dataframe from the dictionary\n",
    "df_loc_boxplot = pd.DataFrame(cities)\n",
    "\n",
    "# sort it by median value\n",
    "med_loc = df_loc_boxplot.median()\n",
    "med_loc.sort_values(ascending=False, inplace=True)\n",
    "df_loc_boxplot = df_loc_boxplot[med_loc.index]\n",
    "\n",
    "# visualize the data\n",
    "df_loc_boxplot = df_loc_boxplot.floordiv(1000000)\n",
    "graph = df_loc_boxplot.plot.box(title='Average Amount Funded per City',legend=False,rot=90,showfliers=False)\n",
    "graph.set_xlabel('City')\n",
    "graph.set_ylabel('Average Funding in Million USD')"
   ]
  },
  {
   "cell_type": "markdown",
   "metadata": {},
   "source": [
    "We used a boxplot here to exclude outliers. This graph finally shows us which city really gets the highest average funding. New York and San Fransiciso are ranked in the lower half, meaning their high total funding amounts were sololy because of the massive number of companies over the other cities. Houston also is not ranked high in this graph even with the outstanding result in the previous average funding bar graph. It indicates that Houston has a few companies that received huge amount of funding, which brought its average amount higher than the others. In this graph, we can conclude that Santa Clara is the best city for start-up companies to get most funding."
   ]
  },
  {
   "cell_type": "markdown",
   "metadata": {},
   "source": [
    "### Ratio of Closed to (Aquired & IPO)"
   ]
  },
  {
   "cell_type": "code",
   "execution_count": 9,
   "metadata": {},
   "outputs": [],
   "source": [
    "df_loc_rat = df_loc.copy()\n",
    "list_cit = dict(pd.value_counts(df_loc_rat['city']))\n",
    "cities = dict()\n",
    "df_loc_rat = df_loc.reset_index(drop=True)\n",
    "\n",
    "for (x,y) in list_cit.items():\n",
    "    cities[x] = [0,0]\n",
    "\n",
    "for i in range(len(df_loc_rat)):\n",
    "    cit = df_loc_rat.loc[i]['city']\n",
    "    stat = df_loc_rat.loc[i]['status']\n",
    "    \n",
    "    if stat=='closed':\n",
    "        cities[cit][0]+=1\n",
    "    elif stat=='ipo'or stat=='acquired':\n",
    "        cities[cit][1]+=1"
   ]
  },
  {
   "cell_type": "code",
   "execution_count": 10,
   "metadata": {},
   "outputs": [
    {
     "ename": "NameError",
     "evalue": "name 'list2' is not defined",
     "output_type": "error",
     "traceback": [
      "\u001b[0;31m---------------------------------------------------------------------------\u001b[0m",
      "\u001b[0;31mNameError\u001b[0m                                 Traceback (most recent call last)",
      "\u001b[0;32m<ipython-input-10-65bcf5ef1257>\u001b[0m in \u001b[0;36m<module>\u001b[0;34m()\u001b[0m\n\u001b[1;32m      1\u001b[0m \u001b[0mcount\u001b[0m\u001b[0;34m=\u001b[0m\u001b[0;36m0\u001b[0m\u001b[0;34m\u001b[0m\u001b[0;34m\u001b[0m\u001b[0m\n\u001b[1;32m      2\u001b[0m \u001b[0mnewdict\u001b[0m \u001b[0;34m=\u001b[0m \u001b[0mdict\u001b[0m\u001b[0;34m(\u001b[0m\u001b[0;34m)\u001b[0m\u001b[0;34m\u001b[0m\u001b[0;34m\u001b[0m\u001b[0m\n\u001b[0;32m----> 3\u001b[0;31m \u001b[0;32mfor\u001b[0m \u001b[0;34m(\u001b[0m\u001b[0mx\u001b[0m\u001b[0;34m,\u001b[0m\u001b[0my\u001b[0m\u001b[0;34m)\u001b[0m \u001b[0;32min\u001b[0m \u001b[0mlist2\u001b[0m\u001b[0;34m.\u001b[0m\u001b[0mitems\u001b[0m\u001b[0;34m(\u001b[0m\u001b[0;34m)\u001b[0m\u001b[0;34m:\u001b[0m\u001b[0;34m\u001b[0m\u001b[0;34m\u001b[0m\u001b[0m\n\u001b[0m\u001b[1;32m      4\u001b[0m     \u001b[0;32mif\u001b[0m \u001b[0mcount\u001b[0m \u001b[0;34m<\u001b[0m \u001b[0;36m20\u001b[0m\u001b[0;34m:\u001b[0m\u001b[0;34m\u001b[0m\u001b[0;34m\u001b[0m\u001b[0m\n\u001b[1;32m      5\u001b[0m         \u001b[0msum\u001b[0m \u001b[0;34m=\u001b[0m \u001b[0mcities\u001b[0m\u001b[0;34m[\u001b[0m\u001b[0mx\u001b[0m\u001b[0;34m]\u001b[0m\u001b[0;34m[\u001b[0m\u001b[0;36m0\u001b[0m\u001b[0;34m]\u001b[0m\u001b[0;34m+\u001b[0m\u001b[0mcities\u001b[0m\u001b[0;34m[\u001b[0m\u001b[0mx\u001b[0m\u001b[0;34m]\u001b[0m\u001b[0;34m[\u001b[0m\u001b[0;36m1\u001b[0m\u001b[0;34m]\u001b[0m\u001b[0;34m\u001b[0m\u001b[0;34m\u001b[0m\u001b[0m\n",
      "\u001b[0;31mNameError\u001b[0m: name 'list2' is not defined"
     ]
    }
   ],
   "source": [
    "count=0\n",
    "newdict = dict()\n",
    "for (x,y) in list2.items():\n",
    "    if count < 20:\n",
    "        sum = cities[x][0]+cities[x][1]\n",
    "        newdict[x] = [cities[x][0] / sum , cities[x][1] / sum]\n",
    "    count+=1\n",
    "\n",
    "newdf2 = pd.DataFrame.from_dict(newdict,orient='index')\n",
    "newdf2 = newdf2.sort_values(by=[0],ascending=False)\n",
    "newdf2.columns = ['closed', 'IPO & acquired']\n",
    "ax = newdf2.plot(kind='bar',stacked=True)\n",
    "ax.set_title(\"Closed v. (IPO & Acquired) Ratio by Location\")\n",
    "ax.set_xlabel(\"cities\")\n",
    "for rec1, label1 in zip(ax.patches,newdf2['closed'].round(1).astype(str)):\n",
    "    height1 = rec1.get_height()\n",
    "    ax.text(rec1.get_x() + rec1.get_width() , height1 + .05, label1,\n",
    "           ha = 'center', va='bottom')\n",
    "    \n",
    "    \n",
    "plt.legend(loc='upper right')"
   ]
  },
  {
   "cell_type": "markdown",
   "metadata": {},
   "source": [
    "### Longevity between first operation and last operation"
   ]
  },
  {
   "cell_type": "code",
   "execution_count": null,
   "metadata": {},
   "outputs": [],
   "source": [
    "def longevity(row):\n",
    "    if(pd.isnull(row['closed_on'])):\n",
    "        return (2019 - int(row['founded_on'][0:4]))\n",
    "    else:\n",
    "        return (int(row['closed_on'][0:4]) - int(row['founded_on'][0:4]))\n",
    "df_temp = df_loc.copy()\n",
    "df_temp.dropna(subset=['founded_on'], inplace=True)\n",
    "df_temp['longevity'] = df_temp.apply(lambda row: longevity(row), axis=1)\n",
    "\n",
    "#Data for location\n",
    "df_city = df_loc['city'].value_counts().index[:20]\n",
    "df_avgL = np.zeros(len(df_city))\n",
    "for i in range(len(df_city)):\n",
    "    df_avgL[i] = df_temp.loc[df_loc['city'] == df_city[i]]['longevity'].mean()\n",
    "\n",
    "df_longevity = pd.DataFrame({'city':df_city, 'average longevity':df_avgL})\n",
    "df_longevity = df_longevity.sort_values(by = ['average longevity'],ascending = False)\n",
    "df_longevity.plot.bar(x='city', y='average longevity', color = (0.2, 0.4, 0.6, 0.8))"
   ]
  },
  {
   "cell_type": "markdown",
   "metadata": {},
   "source": [
    "## Most Successful By Industry"
   ]
  },
  {
   "cell_type": "markdown",
   "metadata": {},
   "source": [
    "There are many industires that these startups are involved in. Some very unique topics and some very broad that don't say alot about what the company does. As such we need to find some of the most popular industies and see how each company fits into these. For each company, the data shows a list of categories the company is involved in. To clean this data we will create a bucket of the most popular 20 industies where each company that reports that industry will be in it. (Note some companies can be in multiple buckets) This list of 20 industries will have some broad terms like apps removed and replaced with the next highest topic occurance. This choice of non-specificity is done manually. And we have a description as to why the choice was removed.\n",
    "\n",
    "We will then analyze this data by the same criteria of success as done in location"
   ]
  },
  {
   "cell_type": "markdown",
   "metadata": {},
   "source": [
    "### Sorting and Cleaning Data By Industry "
   ]
  },
  {
   "cell_type": "markdown",
   "metadata": {},
   "source": [
    "First we sort by all of the industries listed for every company. We drop any that don't have an industry reported, rather than mark as other, because they might still belong in one of these other lists."
   ]
  },
  {
   "cell_type": "code",
   "execution_count": null,
   "metadata": {},
   "outputs": [],
   "source": [
    "# copy the original dataframe\n",
    "df_ind = df.copy()\n",
    "\n",
    "# drop rows with no industry category and irrelevant columns\n",
    "df_ind.dropna(subset=['category_group_list'], inplace=True)\n",
    "df_ind.drop(['state_code','first_funding_on','last_funding_on'], axis=1, inplace=True)"
   ]
  },
  {
   "cell_type": "markdown",
   "metadata": {},
   "source": [
    "Here, we are going to use a function written by James Allen from https://gist.github.com/jlln.\n",
    "\n",
    "This function efficiently split Pandas Dataframe cells containing lists into multiple rows, duplicating the other column's values."
   ]
  },
  {
   "cell_type": "code",
   "execution_count": null,
   "metadata": {},
   "outputs": [],
   "source": [
    "# CODE FRAGMENT USED FROM https://gist.github.com/jlln/338b4b0b55bd6984f883\n",
    "def splitDataFrameList(df,target_column,separator):\n",
    "    '''\n",
    "    df = dataframe to split,\n",
    "    target_column = the column containing the values to split\n",
    "    separator = the symbol used to perform the split\n",
    "    returns: a dataframe with each entry for the target column separated, with each element moved into a new row. \n",
    "    The values in the other columns are duplicated across the newly divided rows.\n",
    "    '''\n",
    "    def splitListToRows(row,row_accumulator,target_column,separator):\n",
    "        split_row = row[target_column].split(separator)\n",
    "        for s in split_row:\n",
    "            new_row = row.to_dict()\n",
    "            new_row[target_column] = s\n",
    "            row_accumulator.append(new_row)\n",
    "    new_rows = []\n",
    "    df.apply(splitListToRows,axis=1,args = (new_rows,target_column,separator))\n",
    "    new_df = pd.DataFrame(new_rows)\n",
    "    return new_df"
   ]
  },
  {
   "cell_type": "code",
   "execution_count": null,
   "metadata": {},
   "outputs": [],
   "source": [
    "# split the companies with multiple industries into separate rows\n",
    "df_ind_split = splitDataFrameList(df_ind,'category_group_list','|')\n",
    "\n",
    "# rename the column\n",
    "df_ind_split.rename(index=str, columns={'category_group_list':'industry'}, inplace=True)"
   ]
  },
  {
   "cell_type": "markdown",
   "metadata": {},
   "source": [
    "Now some of these topics are rather broad. I.E. (Software, Hardware, Apps, Internet Services, Information Technology, and Science and Engineering) So we will ignore these categories. Otherwise for each category a company has listed we will create a new row with just the one category"
   ]
  },
  {
   "cell_type": "code",
   "execution_count": null,
   "metadata": {},
   "outputs": [],
   "source": [
    "bad_industry = ['software','internet services','information technology','hardware','science and engineering']\n",
    "for ind in bad_industry:\n",
    "    df_ind_split.drop(df_ind_split.loc[df_ind_split['industry'] == ind].index, inplace=True)"
   ]
  },
  {
   "cell_type": "markdown",
   "metadata": {},
   "source": [
    "Finally, we convert the data type of funding_total_usd from string to integer"
   ]
  },
  {
   "cell_type": "code",
   "execution_count": null,
   "metadata": {},
   "outputs": [],
   "source": [
    "# replace NaN with '0'\n",
    "df_ind_split.fillna({' funding_total_usd ':'0'}, inplace=True)\n",
    "\n",
    "# convert the values\n",
    "df_ind_split[' funding_total_usd '] = df_ind_split[' funding_total_usd '].apply(convert_fund)"
   ]
  },
  {
   "cell_type": "markdown",
   "metadata": {},
   "source": [
    "### Total Companies by Industry"
   ]
  },
  {
   "cell_type": "code",
   "execution_count": null,
   "metadata": {},
   "outputs": [],
   "source": [
    "# extract number of companies per industry\n",
    "df_companies_by_industry = df_ind_split['industry'].value_counts().to_frame()\n",
    "\n",
    "# extract top 20 industries\n",
    "df_companies_by_industry = df_companies_by_industry[:20]\n",
    "\n",
    "# visualize the data\n",
    "graph = df_companies_by_industry.plot.bar(title='Total Companies per Industry',legend=False)\n",
    "graph.set_xlabel('Industry')\n",
    "graph.set_ylabel('Number of Companies')"
   ]
  },
  {
   "cell_type": "markdown",
   "metadata": {},
   "source": [
    "Out of many industries, the most popular industry for start-up companies was health care, followed by median & entertainment, and finaicial servies."
   ]
  },
  {
   "cell_type": "markdown",
   "metadata": {},
   "source": [
    "### Total Amount Funded by Industry"
   ]
  },
  {
   "cell_type": "code",
   "execution_count": null,
   "metadata": {},
   "outputs": [],
   "source": [
    "# dataframe to count total amount funded per industry\n",
    "df_ind_total_fund = df_ind_split['industry'].value_counts().to_frame()\n",
    "df_ind_total_fund = df_ind_total_fund[:20]\n",
    "\n",
    "# drop the number of companies column and add total funding column\n",
    "df_ind_total_fund.drop(['industry'], axis=1, inplace=True)\n",
    "fund = [0,0,0,0,0,0,0,0,0,0,0,0,0,0,0,0,0,0,0,0]\n",
    "df_ind_total_fund['total_fund'] = fund\n",
    "\n",
    "# drop any row with no funding\n",
    "df_ind_fund = df_ind_split.copy()\n",
    "df_ind_fund = df_ind_fund[df_ind_fund[' funding_total_usd '] > 0]\n",
    "\n",
    "# find total amounted funded by industry\n",
    "for index, row in df_ind_fund.iterrows():\n",
    "\n",
    "    # if there was funding\n",
    "    if df_ind_total_fund.index.contains(row['industry']):\n",
    "        df_ind_total_fund.loc[row['industry'], 'total_fund'] += row[' funding_total_usd ']\n",
    "\n",
    "# sort the value\n",
    "df_ind_total_fund.sort_values(by=['total_fund'], inplace=True, ascending=False)\n",
    "\n",
    "# visualize the data\n",
    "df_ind_total_fund = df_ind_total_fund.floordiv(1000000)\n",
    "graph = df_ind_total_fund.plot.bar(title='Total Amount Funded per Industry',legend=False)\n",
    "graph.set_xlabel('Industry')\n",
    "graph.set_ylabel('Total Funding in Million USD')"
   ]
  },
  {
   "cell_type": "markdown",
   "metadata": {},
   "source": [
    "As we coult predict from the previous graph, health care has the biggest total funding out of all. However, media & entertainment and financial services got less total funding than mobile and biotechnology depite their number of companies."
   ]
  },
  {
   "cell_type": "markdown",
   "metadata": {},
   "source": [
    "### Average Capital Raised By Industry"
   ]
  },
  {
   "cell_type": "code",
   "execution_count": null,
   "metadata": {},
   "outputs": [],
   "source": [
    "# dataframe to count average amount funded per industry\n",
    "df_ind_avg_fund = df_ind_total_fund.copy()\n",
    "\n",
    "# add funding rounds column\n",
    "funding_rounds = [0,0,0,0,0,0,0,0,0,0,0,0,0,0,0,0,0,0,0,0]\n",
    "df_ind_avg_fund['funding_rounds'] = funding_rounds\n",
    "\n",
    "# find total amounted funded by industry\n",
    "for index, row in df_ind_fund.iterrows():\n",
    "\n",
    "    # if there was funding\n",
    "    if df_ind_avg_fund.index.contains(row['industry']):\n",
    "        df_ind_avg_fund.loc[row['industry'], 'funding_rounds'] += row['funding_rounds']\n",
    "\n",
    "# find the average funding and drop unnecessary columns\n",
    "df_ind_avg_fund['average_fund'] = df_ind_avg_fund['total_fund'] / df_ind_avg_fund['funding_rounds']\n",
    "df_ind_avg_fund.drop(['total_fund','funding_rounds'],axis=1,inplace=True)\n",
    "\n",
    "# sort the value\n",
    "df_ind_avg_fund.sort_values(by=['average_fund'], inplace=True, ascending=False)\n",
    "\n",
    "# visualize the data\n",
    "graph = df_ind_avg_fund.plot.bar(title='Average Amount Funded per Industry',legend=False)\n",
    "graph.set_xlabel('Industry')\n",
    "graph.set_ylabel('Average Funding in Million USD')"
   ]
  },
  {
   "cell_type": "markdown",
   "metadata": {},
   "source": [
    "Interestingly, transportation has the highest average funding out of all the other industries, while health care is ranked far behind. Also, energy and real estate became second and third places, making a huge step from the lower half in the previous graphs."
   ]
  },
  {
   "cell_type": "code",
   "execution_count": null,
   "metadata": {},
   "outputs": [],
   "source": [
    "# find average funding by each company\n",
    "df_ind_fund['average_fund'] = df_ind_fund[' funding_total_usd '] / df_ind_fund['funding_rounds']\n",
    "\n",
    "# construct a dictionary with the top 20 industries\n",
    "industries = df_ind_fund['industry'].value_counts().index[:20].tolist()\n",
    "industries = dict.fromkeys(industries,0)\n",
    "for industry, value in industries.items():\n",
    "    industries[industry] = list()\n",
    "# fill the each list with average funding of each company in its industry\n",
    "for index, row in df_ind_fund.iterrows():\n",
    "    if row['industry'] in industries.keys():\n",
    "        industries[row['industry']].append(int(row['average_fund']))\n",
    "\n",
    "# find maximum length of the lists\n",
    "maxLength = 0\n",
    "for industry, funding in industries.items():\n",
    "    if maxLength < len(funding):\n",
    "        maxLength = len(funding)\n",
    "\n",
    "# make the lists to have same length and fill it with NaN\n",
    "for industry, funding in industries.items():\n",
    "    for i in range(maxLength - len(funding)):\n",
    "        funding.append(np.NaN)\n",
    "\n",
    "# build dataframe from the dictionary\n",
    "df_ind_boxplot = pd.DataFrame(industries)\n",
    "\n",
    "# sort by median\n",
    "med_ind = df_ind_boxplot.median()\n",
    "med_ind.sort_values(ascending=False, inplace=True)\n",
    "df_ind_boxplot = df_ind_boxplot[med_ind.index]\n",
    "\n",
    "# visualize the data\n",
    "df_ind_boxplot = df_ind_boxplot.floordiv(1000000)\n",
    "graph = df_ind_boxplot.plot.box(title='Average Amount Funded per Industry',legend=False,rot=90,showfliers=False)\n",
    "graph.set_xlabel('Industry')\n",
    "graph.set_ylabel('Average Funding in Million USD')"
   ]
  },
  {
   "cell_type": "markdown",
   "metadata": {},
   "source": [
    "Here we discovered that transportation had a few company with exceptionally large funding affecting the average funding in the industry. After removing all the outliers, we could conclude that biotechnology is the real industry with the highest average funding amount out of all."
   ]
  },
  {
   "cell_type": "markdown",
   "metadata": {},
   "source": [
    "### Ratio of Closed to (Aquired & IPO)"
   ]
  },
  {
   "cell_type": "code",
   "execution_count": null,
   "metadata": {},
   "outputs": [],
   "source": [
    "df_ind_rat = df_ind_split.copy()\n",
    "list = dict(pd.value_counts(df_ind_rat['industry']))\n",
    "industries = dict()\n",
    "df_ind_rat = df_ind_rat.reset_index(drop=True)\n",
    "\n",
    "for (x,y) in list.items():\n",
    "    industries[x] = [0,0]\n",
    "\n",
    "for i in range(len(df_ind_rat)):\n",
    "    ind = df_ind_rat.loc[i]['industry']\n",
    "    stat = df_ind_rat.loc[i]['status']\n",
    "    \n",
    "    if stat=='closed':\n",
    "        industries[ind][0]+=1\n",
    "    elif stat=='ipo'or stat=='acquired':\n",
    "        industries[ind][1]+=1"
   ]
  },
  {
   "cell_type": "code",
   "execution_count": null,
   "metadata": {},
   "outputs": [],
   "source": [
    "count = 0\n",
    "for (x,y) in list.items():\n",
    "    if count >= 20:\n",
    "        if x in industries:\n",
    "            industries.pop(x)\n",
    "    else:\n",
    "        sum = industries[x][0]+industries[x][1]\n",
    "        industries[x][0] /= sum\n",
    "        industries[x][1] /= sum\n",
    "    count+=1\n",
    "\n",
    "newdf = pd.DataFrame.from_dict(industries,orient='index')\n",
    "newdf = newdf.sort_values(by=[0],ascending=False)\n",
    "newdf.columns = ['closed', 'IPO & acquired']\n",
    "ax = newdf.plot(kind='bar',stacked=True)\n",
    "ax.set_title(\"Closed v. (IPO & Acquired) Ratio by Industry\")\n",
    "ax.set_xlabel(\"industries\")\n",
    "for rec, label in zip(ax.patches,newdf['closed'].round(1).astype(str)):\n",
    "    height = rec.get_height()\n",
    "    ax.text(rec.get_x() + rec.get_width() , height + .05, label,\n",
    "           ha = 'center', va='bottom')\n",
    "    \n",
    "plt.legend(loc='upper right')"
   ]
  },
  {
   "cell_type": "markdown",
   "metadata": {},
   "source": [
    "### Analysis for Closed v. (Acquired & IPO): \n",
    "\n",
    "We decided to analyze the ratio of closed v. (acquired & IPO) companies categorized by industries and locations because it gives us a visual understanding of the success (defined here by a company being acquired or obtaining IPO) and failure (defined here by a company being closed).\n",
    "\n",
    "To generate the graphs, we started by constructing two dictionaries in the format of \n",
    "\n",
    "1. key: industry, value: [number of closed companies under the industry, number of acquired & IPO companies under the industry]\n",
    "2. key: city, value: [number of closed companies in the city, number of acquired & IPO companies in the city]\n",
    "\n",
    "from the dataframe that we cleaned (removed vague industries). We traversed through each row in the dataframe and used each row's industry/city to modify the dictionary values. For example, if a company is under \"Apps\" for industry and \"Palo Alto\" for city, and \"closed\" for its status, then we simply increment the first element of the dictionary entry with the key value \"Apps\" and the key value \"Palo Alto\".\n",
    "\n",
    "After obtaining the dictionaries, we constructed two new dataframes for generating the graphs. We only included the industries and cities with the top 20 most number of companies to avoid extreme data. The dataframes have the following columns\n",
    "\n",
    "1. index | industry | ratio of closed companies | ratio of acquired & IPO companies\n",
    "\n",
    "2. index | city | ratio of closed companies | ratio of acquired & IPO companies.\n",
    "\n",
    "From here, we sorted the categories by the ratio of closed companies and used the plot function of pandas dataframe to generate the stacked bar charts. \n",
    "\n",
    "\n",
    "\n",
    "#### Industries\n",
    "Top 3 with lowest closed rate: \n",
    "1. Manufacturing\n",
    "2. Real estate\n",
    "3. Food and beverage\n",
    "\n",
    "Top 3 with highest closed rate:\n",
    "1. Apps\n",
    "2. Mobile\n",
    "3. Media and entertainment\n",
    "\n",
    "\n",
    "Since both Apps and Mobile industries can be categorized under technology, our finding shows that technology industry has a higher closed rate than other industries. \n",
    "\n",
    "#### Cities\n",
    "Top 3 with lowest closed rate: \n",
    "1. Houston\n",
    "2. Dallas\n",
    "3. Denver\n",
    "\n",
    "Top 3 with highest closed rate:\n",
    "1. Palo Alto\n",
    "2. San Francisco\n",
    "3. Los Angeles\n",
    "\n",
    "We can conclude that big cities in California like Palo Alto, San Francisco, and Los Angeles have a higher closed rate than other cities.\n",
    "\n",
    "We can then conclude that starting a business in technology industry and in the cities like Palo Alto, San Francisco, and Los Angeles will more likely fail (more likely to close than being acquired or having IPO). In contrast, having a manufacturing business in Houston, Dallas, or Denver will more likely to succeed. Intuitively, it makes sense that cities with high living costs (like California cities) have more risks for startup companies because the comapnies would have a difficult time covering all its expenses before they make a profit. Similarly, technology businesses need to constantly obtain the most recent technical information to stay competitive, and thus makes the industry more demanding than others.\n",
    "\n",
    "Because the graphs show no significant difference in ratio (the highest is 0.3 and the lowest is 0.1), we can also conclude that ratio of closed and (IPO & acquired) is not a strong indicator for predicting the success/failure of companies. In other words, we should use more than just the ratio of closed and acquired & IPO companies to measure the effect of industries and location on startup companies.\n"
   ]
  },
  {
   "cell_type": "markdown",
   "metadata": {},
   "source": [
    "### Longevity between first operation and last operation"
   ]
  },
  {
   "cell_type": "code",
   "execution_count": null,
   "metadata": {},
   "outputs": [],
   "source": [
    "df_temp = df_ind_split.copy()\n",
    "df_temp.dropna(subset=['founded_on'], inplace=True)\n",
    "df_temp['longevity'] = df_temp.apply(lambda row: longevity(row), axis=1)\n",
    "\n",
    "#Data for location\n",
    "df_industry = df_ind_split['industry'].value_counts().index[:20]\n",
    "df_avgL = np.zeros(len(df_industry))\n",
    "for i in range(len(df_industry)):\n",
    "    df_avgL[i] = df_temp.loc[df_ind_split['industry'] == df_industry[i]]['longevity'].mean()\n",
    "\n",
    "df_longevity = pd.DataFrame({'industry':df_industry, 'average longevity':df_avgL})\n",
    "df_longevity = df_longevity.sort_values(by = ['average longevity'],ascending = False)\n",
    "df_longevity.plot.bar(x='industry', y='average longevity', color = (0.2, 0.4, 0.6, 0.8))"
   ]
  },
  {
   "cell_type": "markdown",
   "metadata": {},
   "source": [
    "## Most Successful By Industry and Location"
   ]
  },
  {
   "cell_type": "code",
   "execution_count": null,
   "metadata": {},
   "outputs": [],
   "source": []
  },
  {
   "cell_type": "markdown",
   "metadata": {},
   "source": [
    "# Ethics & Privacy"
   ]
  },
  {
   "cell_type": "markdown",
   "metadata": {},
   "source": [
    "*Fill in your ethics & privacy discussion here*"
   ]
  },
  {
   "cell_type": "markdown",
   "metadata": {},
   "source": [
    "# Conclusion & Discussion"
   ]
  },
  {
   "cell_type": "markdown",
   "metadata": {},
   "source": [
    "*Fill in your discussion information here*"
   ]
  }
 ],
 "metadata": {
  "kernelspec": {
   "display_name": "Python 3",
   "language": "python",
   "name": "python3"
  },
  "language_info": {
   "codemirror_mode": {
    "name": "ipython",
    "version": 3
   },
   "file_extension": ".py",
   "mimetype": "text/x-python",
   "name": "python",
   "nbconvert_exporter": "python",
   "pygments_lexer": "ipython3",
   "version": "3.6.7"
  }
 },
 "nbformat": 4,
 "nbformat_minor": 2
}
